{
 "cells": [
  {
   "cell_type": "code",
   "execution_count": null,
   "metadata": {},
   "outputs": [
    {
     "name": "stdout",
     "output_type": "stream",
     "text": [
      "Creating BLAST database from mouse sequences...\n",
      "\n",
      "\n",
      "Building a new DB, current time: 11/04/2024 15:36:27\n",
      "New DB name:   /Users/katherine/Desktop/CSC649/HMW3/mouse_protein_db\n",
      "New DB title:  mouse.fa\n",
      "Sequence type: Protein\n",
      "Deleted existing Protein BLAST database named /Users/katherine/Desktop/CSC649/HMW3/mouse_protein_db\n",
      "Keep MBits: T\n",
      "Maximum file size: 3000000000B\n",
      "Adding sequences from FASTA; added 17489 sequences in 0.365083 seconds.\n",
      "\n",
      "\n",
      "Running BLASTp for sequence STAU1...\n",
      "Running BLASTp for sequence NRAS...\n",
      "Running BLASTp for sequence HRAS...\n",
      "Running BLASTp for sequence SLC30A10...\n",
      "Running BLASTp for sequence CTSV...\n",
      "Running BLASTp for sequence SFRS4...\n",
      "Running BLASTp for sequence GABRG2...\n",
      "Running BLASTp for sequence PCDH1...\n",
      "Running BLASTp for sequence CAMK1G...\n",
      "Running BLASTp for sequence ADCYAP1...\n",
      "Running BLASTp for sequence PPP2R5D...\n",
      "Running BLASTp for sequence MLLT3...\n",
      "Running BLASTp for sequence VN1R3...\n",
      "BLAST results saved to output_protein_blast.txt\n"
     ]
    }
   ],
   "source": [
    "from Bio import SeqIO\n",
    "import subprocess\n",
    "import os\n",
    "\n",
    "human_file = \"human.fa\"\n",
    "mouse_file = \"mouse.fa\"\n",
    "\n",
    "#Create a BLAST database for mouse proteins\n",
    "print(\"Creating BLAST database from mouse sequences...\")\n",
    "subprocess.run([\n",
    "    \"makeblastdb\", \n",
    "    \"-in\", mouse_file, \n",
    "    \"-dbtype\", \"prot\", \n",
    "    \"-out\", \"mouse_protein_db\"\n",
    "])\n",
    "\n",
    "# Parse human protein sequences and run BLASTp for each sequence\n",
    "output_file = \"output_protein_blast.txt\"\n",
    "with open(output_file, \"w\") as out_file:\n",
    "    for human_seq in SeqIO.parse(human_file, \"fasta\"):\n",
    "        # Save the current human sequence to a temporary file\n",
    "        temp_query_file = \"temp_query.fa\"\n",
    "        SeqIO.write(human_seq, temp_query_file, \"fasta\")\n",
    "\n",
    "        # Run BLASTp against the mouse protein database\n",
    "        print(f\"Running BLASTp for sequence {human_seq.id}...\")\n",
    "        result = subprocess.run(\n",
    "            [\n",
    "                \"blastp\", \n",
    "                \"-query\", temp_query_file, \n",
    "                \"-db\", \"mouse_protein_db\", \n",
    "                \"-outfmt\", \"6 qseqid sseqid evalue bitscore\"\n",
    "            ],\n",
    "            capture_output=True,\n",
    "            text=True\n",
    "        )\n",
    "\n",
    "        # Write the BLASTp output to the final output file\n",
    "        if result.stdout:\n",
    "            out_file.write(result.stdout)\n",
    "        else:\n",
    "            print(f\"No results found for sequence {human_seq.id}\")\n",
    "\n",
    "        # Remove the temporary query file after each search\n",
    "        os.remove(temp_query_file)\n",
    "\n",
    "print(f\"BLAST results saved to {output_file}\")\n"
   ]
  },
  {
   "cell_type": "markdown",
   "metadata": {},
   "source": [
    "(i) Choice of BLAST Program: blastp\n",
    "Since the dataset consists of protein sequences, I use blastp, the BLAST program designed for protein-protein sequence comparisons. Protein BLAST is ideal for identifying homologous sequences at the amino acid level, which typically captures evolutionary relationships more effectively than nucleotide sequences alone. blastp is optimized to account for protein-specific alignment challenges."
   ]
  },
  {
   "cell_type": "markdown",
   "metadata": {},
   "source": [
    "(ii) Choice of Substitution Matrix: BLOSUM62\n",
    "The default substitution matrix for blastp is typically BLOSUM62, which is widely used for protein alignment because it balances sensitivity and specificity, making it effective for finding homologs with around 62% sequence similarity. \n",
    "BLOSUM62 works well for finding both close and moderately distant homologs, covering a broad range of evolutionary distances."
   ]
  },
  {
   "cell_type": "markdown",
   "metadata": {},
   "source": [
    "(iii) Choice of Parameters\n",
    "\n",
    "E-value (-evalue):\n",
    "The E-value controls the stringency of the results. An E-value threshold of 1e-5 to 1e-3 is often used for finding homologous proteins while filtering out weak matches. Lowering the E-value threshold makes the search more stringent, reporting only highly significant matches, which is useful for identifying truly homologous proteins.\n",
    "\n",
    "Output Format (-outfmt 6):\n",
    "This format specifies a tabular output for easy parsing. It includes fields such as query ID, subject ID, E-value, and bitscore, providing concise and structured information for each alignment.\n",
    "\n",
    "Database Parameters:\n",
    "-db mouse_protein_db specifies the database created from mouse.fa. This ensures that each human protein is searched against the mouse database to identify homologous sequences.\n",
    "\n",
    "Alignment Score (Bitscore):\n",
    "The bitscore provides a normalized score for each alignment. Higher bitscores indicate better matches, making it easier to rank the homologs based on their similarity. Sorting by bitscore allows easy identification of the most homologous sequences."
   ]
  }
 ],
 "metadata": {
  "kernelspec": {
   "display_name": "Python 3",
   "language": "python",
   "name": "python3"
  },
  "language_info": {
   "codemirror_mode": {
    "name": "ipython",
    "version": 3
   },
   "file_extension": ".py",
   "mimetype": "text/x-python",
   "name": "python",
   "nbconvert_exporter": "python",
   "pygments_lexer": "ipython3",
   "version": "3.9.6"
  }
 },
 "nbformat": 4,
 "nbformat_minor": 2
}
